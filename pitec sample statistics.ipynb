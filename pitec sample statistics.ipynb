{
 "cells": [
  {
   "cell_type": "code",
   "execution_count": 1,
   "metadata": {},
   "outputs": [],
   "source": [
    "%reset -f\n",
    "import pandas as pd\n",
    "import numpy as np\n",
    "pd.set_option('display.max_columns', None)"
   ]
  },
  {
   "cell_type": "code",
   "execution_count": 2,
   "metadata": {},
   "outputs": [],
   "source": [
    "pitec_main = pd.read_csv('pitec_merged.csv', index_col=0)\n",
    "pitec_small = pitec_main[['IDENT', 'year', 'INCINE', 'TAMANO']]"
   ]
  },
  {
   "cell_type": "markdown",
   "metadata": {},
   "source": [
    "# Sample Size Over Time\n",
    "I focus on observations entered \"without incident\"."
   ]
  },
  {
   "cell_type": "code",
   "execution_count": 3,
   "metadata": {},
   "outputs": [
    {
     "data": {
      "text/html": [
       "<div>\n",
       "<style scoped>\n",
       "    .dataframe tbody tr th:only-of-type {\n",
       "        vertical-align: middle;\n",
       "    }\n",
       "\n",
       "    .dataframe tbody tr th {\n",
       "        vertical-align: top;\n",
       "    }\n",
       "\n",
       "    .dataframe thead th {\n",
       "        text-align: right;\n",
       "    }\n",
       "</style>\n",
       "<table border=\"1\" class=\"dataframe\">\n",
       "  <thead>\n",
       "    <tr style=\"text-align: right;\">\n",
       "      <th></th>\n",
       "      <th>2003</th>\n",
       "      <th>2004</th>\n",
       "      <th>2005</th>\n",
       "      <th>2006</th>\n",
       "      <th>2007</th>\n",
       "      <th>2008</th>\n",
       "      <th>2009</th>\n",
       "      <th>2010</th>\n",
       "      <th>2011</th>\n",
       "      <th>2012</th>\n",
       "      <th>2013</th>\n",
       "      <th>2014</th>\n",
       "      <th>2015</th>\n",
       "      <th>2016</th>\n",
       "    </tr>\n",
       "  </thead>\n",
       "  <tbody>\n",
       "    <tr>\n",
       "      <th>Gross Sample</th>\n",
       "      <td>7283</td>\n",
       "      <td>10323</td>\n",
       "      <td>12803</td>\n",
       "      <td>12803</td>\n",
       "      <td>12808</td>\n",
       "      <td>12813</td>\n",
       "      <td>12817</td>\n",
       "      <td>12821</td>\n",
       "      <td>12828</td>\n",
       "      <td>12838</td>\n",
       "      <td>12839</td>\n",
       "      <td>12842</td>\n",
       "      <td>12844</td>\n",
       "      <td>12849</td>\n",
       "    </tr>\n",
       "    <tr>\n",
       "      <th>No Incident</th>\n",
       "      <td>7238</td>\n",
       "      <td>10093</td>\n",
       "      <td>12098</td>\n",
       "      <td>12034</td>\n",
       "      <td>11594</td>\n",
       "      <td>11182</td>\n",
       "      <td>10796</td>\n",
       "      <td>10380</td>\n",
       "      <td>9977</td>\n",
       "      <td>9612</td>\n",
       "      <td>9172</td>\n",
       "      <td>7071</td>\n",
       "      <td>6880</td>\n",
       "      <td>7683</td>\n",
       "    </tr>\n",
       "    <tr>\n",
       "      <th>Pct. w/ No Incident</th>\n",
       "      <td>0.993821</td>\n",
       "      <td>0.97772</td>\n",
       "      <td>0.944935</td>\n",
       "      <td>0.939936</td>\n",
       "      <td>0.905215</td>\n",
       "      <td>0.872707</td>\n",
       "      <td>0.842319</td>\n",
       "      <td>0.809609</td>\n",
       "      <td>0.777752</td>\n",
       "      <td>0.748715</td>\n",
       "      <td>0.714386</td>\n",
       "      <td>0.550615</td>\n",
       "      <td>0.535659</td>\n",
       "      <td>0.597945</td>\n",
       "    </tr>\n",
       "  </tbody>\n",
       "</table>\n",
       "</div>"
      ],
      "text/plain": [
       "                         2003     2004      2005      2006      2007  \\\n",
       "Gross Sample             7283    10323     12803     12803     12808   \n",
       "No Incident              7238    10093     12098     12034     11594   \n",
       "Pct. w/ No Incident  0.993821  0.97772  0.944935  0.939936  0.905215   \n",
       "\n",
       "                         2008      2009      2010      2011      2012  \\\n",
       "Gross Sample            12813     12817     12821     12828     12838   \n",
       "No Incident             11182     10796     10380      9977      9612   \n",
       "Pct. w/ No Incident  0.872707  0.842319  0.809609  0.777752  0.748715   \n",
       "\n",
       "                         2013      2014      2015      2016  \n",
       "Gross Sample            12839     12842     12844     12849  \n",
       "No Incident              9172      7071      6880      7683  \n",
       "Pct. w/ No Incident  0.714386  0.550615  0.535659  0.597945  "
      ]
     },
     "execution_count": 3,
     "metadata": {},
     "output_type": "execute_result"
    }
   ],
   "source": [
    "response = pd.DataFrame(index=[['Gross Sample', 'No Incident','Pct. w/ No Incident']], columns=range(2003,2017))\n",
    "\n",
    "for idx, year in enumerate(range(2003,2017)):\n",
    "    shell = pitec_small[pitec_small['year']==year]\n",
    "    response.iloc[0,idx] = len(shell)\n",
    "    response.iloc[1,idx] = len(shell[shell['INCINE']=='LI'])\n",
    "    response.iloc[2,idx] = response.iloc[1,idx]/response.iloc[0,idx]\n",
    "response"
   ]
  },
  {
   "cell_type": "markdown",
   "metadata": {},
   "source": [
    "# Firm Size"
   ]
  },
  {
   "cell_type": "code",
   "execution_count": 4,
   "metadata": {},
   "outputs": [
    {
     "data": {
      "text/html": [
       "<div>\n",
       "<style scoped>\n",
       "    .dataframe tbody tr th:only-of-type {\n",
       "        vertical-align: middle;\n",
       "    }\n",
       "\n",
       "    .dataframe tbody tr th {\n",
       "        vertical-align: top;\n",
       "    }\n",
       "\n",
       "    .dataframe thead th {\n",
       "        text-align: right;\n",
       "    }\n",
       "</style>\n",
       "<table border=\"1\" class=\"dataframe\">\n",
       "  <thead>\n",
       "    <tr style=\"text-align: right;\">\n",
       "      <th></th>\n",
       "      <th>2003</th>\n",
       "      <th>2004</th>\n",
       "      <th>2005</th>\n",
       "      <th>2006</th>\n",
       "      <th>2007</th>\n",
       "      <th>2008</th>\n",
       "      <th>2009</th>\n",
       "      <th>2010</th>\n",
       "      <th>2011</th>\n",
       "      <th>2012</th>\n",
       "      <th>2013</th>\n",
       "      <th>2014</th>\n",
       "      <th>2015</th>\n",
       "      <th>2016</th>\n",
       "    </tr>\n",
       "  </thead>\n",
       "  <tbody>\n",
       "    <tr>\n",
       "      <th>&lt;=5</th>\n",
       "      <td>0.0315004</td>\n",
       "      <td>0.0433964</td>\n",
       "      <td>0.0581914</td>\n",
       "      <td>0.0583347</td>\n",
       "      <td>0.0595135</td>\n",
       "      <td>0.0600966</td>\n",
       "      <td>0.0678029</td>\n",
       "      <td>0.0770713</td>\n",
       "      <td>0.0803849</td>\n",
       "      <td>0.0914482</td>\n",
       "      <td>0.0970345</td>\n",
       "      <td>0.0531749</td>\n",
       "      <td>0.0523256</td>\n",
       "      <td>0.0873357</td>\n",
       "    </tr>\n",
       "    <tr>\n",
       "      <th>6-20</th>\n",
       "      <td>0.136364</td>\n",
       "      <td>0.18597</td>\n",
       "      <td>0.220119</td>\n",
       "      <td>0.217467</td>\n",
       "      <td>0.209074</td>\n",
       "      <td>0.212127</td>\n",
       "      <td>0.219155</td>\n",
       "      <td>0.213295</td>\n",
       "      <td>0.218102</td>\n",
       "      <td>0.221286</td>\n",
       "      <td>0.216856</td>\n",
       "      <td>0.158393</td>\n",
       "      <td>0.151017</td>\n",
       "      <td>0.180008</td>\n",
       "    </tr>\n",
       "    <tr>\n",
       "      <th>21-50</th>\n",
       "      <td>0.159022</td>\n",
       "      <td>0.206579</td>\n",
       "      <td>0.218631</td>\n",
       "      <td>0.222287</td>\n",
       "      <td>0.222011</td>\n",
       "      <td>0.220086</td>\n",
       "      <td>0.216099</td>\n",
       "      <td>0.214547</td>\n",
       "      <td>0.210083</td>\n",
       "      <td>0.204744</td>\n",
       "      <td>0.201265</td>\n",
       "      <td>0.183708</td>\n",
       "      <td>0.190262</td>\n",
       "      <td>0.194846</td>\n",
       "    </tr>\n",
       "    <tr>\n",
       "      <th>51-100</th>\n",
       "      <td>0.112324</td>\n",
       "      <td>0.130883</td>\n",
       "      <td>0.134733</td>\n",
       "      <td>0.133455</td>\n",
       "      <td>0.136191</td>\n",
       "      <td>0.132356</td>\n",
       "      <td>0.129307</td>\n",
       "      <td>0.128805</td>\n",
       "      <td>0.12599</td>\n",
       "      <td>0.124948</td>\n",
       "      <td>0.128216</td>\n",
       "      <td>0.162212</td>\n",
       "      <td>0.158285</td>\n",
       "      <td>0.139138</td>\n",
       "    </tr>\n",
       "    <tr>\n",
       "      <th>101-500</th>\n",
       "      <td>0.390301</td>\n",
       "      <td>0.308134</td>\n",
       "      <td>0.263184</td>\n",
       "      <td>0.259349</td>\n",
       "      <td>0.259962</td>\n",
       "      <td>0.260687</td>\n",
       "      <td>0.257503</td>\n",
       "      <td>0.256647</td>\n",
       "      <td>0.257592</td>\n",
       "      <td>0.252705</td>\n",
       "      <td>0.250981</td>\n",
       "      <td>0.311837</td>\n",
       "      <td>0.312064</td>\n",
       "      <td>0.275023</td>\n",
       "    </tr>\n",
       "    <tr>\n",
       "      <th>500&lt;</th>\n",
       "      <td>0.16966</td>\n",
       "      <td>0.124145</td>\n",
       "      <td>0.103406</td>\n",
       "      <td>0.107113</td>\n",
       "      <td>0.111696</td>\n",
       "      <td>0.113307</td>\n",
       "      <td>0.108744</td>\n",
       "      <td>0.107707</td>\n",
       "      <td>0.106645</td>\n",
       "      <td>0.102996</td>\n",
       "      <td>0.103685</td>\n",
       "      <td>0.128978</td>\n",
       "      <td>0.134302</td>\n",
       "      <td>0.121697</td>\n",
       "    </tr>\n",
       "  </tbody>\n",
       "</table>\n",
       "</div>"
      ],
      "text/plain": [
       "              2003       2004       2005       2006       2007       2008  \\\n",
       "<=5      0.0315004  0.0433964  0.0581914  0.0583347  0.0595135  0.0600966   \n",
       "6-20      0.136364    0.18597   0.220119   0.217467   0.209074   0.212127   \n",
       "21-50     0.159022   0.206579   0.218631   0.222287   0.222011   0.220086   \n",
       "51-100    0.112324   0.130883   0.134733   0.133455   0.136191   0.132356   \n",
       "101-500   0.390301   0.308134   0.263184   0.259349   0.259962   0.260687   \n",
       "500<       0.16966   0.124145   0.103406   0.107113   0.111696   0.113307   \n",
       "\n",
       "              2009       2010       2011       2012       2013       2014  \\\n",
       "<=5      0.0678029  0.0770713  0.0803849  0.0914482  0.0970345  0.0531749   \n",
       "6-20      0.219155   0.213295   0.218102   0.221286   0.216856   0.158393   \n",
       "21-50     0.216099   0.214547   0.210083   0.204744   0.201265   0.183708   \n",
       "51-100    0.129307   0.128805    0.12599   0.124948   0.128216   0.162212   \n",
       "101-500   0.257503   0.256647   0.257592   0.252705   0.250981   0.311837   \n",
       "500<      0.108744   0.107707   0.106645   0.102996   0.103685   0.128978   \n",
       "\n",
       "              2015       2016  \n",
       "<=5      0.0523256  0.0873357  \n",
       "6-20      0.151017   0.180008  \n",
       "21-50     0.190262   0.194846  \n",
       "51-100    0.158285   0.139138  \n",
       "101-500   0.312064   0.275023  \n",
       "500<      0.134302   0.121697  "
      ]
     },
     "execution_count": 4,
     "metadata": {},
     "output_type": "execute_result"
    }
   ],
   "source": [
    "firm_size = pd.DataFrame(index=[['<=5', '6-20','21-50','51-100', '101-500','500<']], columns=range(2003,2017))\n",
    "\n",
    "for idx, year in enumerate(range(2003,2017)):\n",
    "    shell = pitec_small[pitec_small['year']==year]\n",
    "    shell = shell[shell['INCINE']=='LI']\n",
    "    \n",
    "    firm_size.iloc[0,idx]=len(shell[shell['TAMANO'] <= 5])/len(shell)\n",
    "    firm_size.iloc[1,idx]= len( shell[(shell['TAMANO'] > 5) & (shell['TAMANO'] <=20)] )/len(shell)\n",
    "    firm_size.iloc[2,idx]=len( shell[(shell['TAMANO'] > 20) & (shell['TAMANO'] <=50)] )/len(shell)\n",
    "    firm_size.iloc[3,idx]=len( shell[(shell['TAMANO'] > 50) & (shell['TAMANO'] <=100)] )/len(shell)\n",
    "    firm_size.iloc[4,idx]=len( shell[(shell['TAMANO'] > 101) & (shell['TAMANO'] <=500)] )/len(shell)\n",
    "    firm_size.iloc[5,idx]=len( shell[shell['TAMANO'] > 500])/len(shell)\n",
    "firm_size"
   ]
  },
  {
   "cell_type": "markdown",
   "metadata": {},
   "source": [
    "# Average Proportions"
   ]
  },
  {
   "cell_type": "code",
   "execution_count": 5,
   "metadata": {},
   "outputs": [
    {
     "data": {
      "text/plain": [
       "Proportion with Expenditure in Internal R&D    0.489764\n",
       "Proportion with Expenditure in External R&D    0.225786\n",
       "Proportion with Product Innovation             0.458519\n",
       "Proportion with Process Innovation             0.456893\n",
       "Proportion Recieving Subsidy                   0.159572\n",
       "dtype: float64"
      ]
     },
     "execution_count": 5,
     "metadata": {},
     "output_type": "execute_result"
    }
   ],
   "source": [
    "pitec_inn = pitec_main[['IDENT', 'year', 'INCINE', 'IDIN', 'IDEX', 'INNPROD', 'INNPROC', 'FONPUBLI', 'TAMANO']]\n",
    "innv = pd.DataFrame(index=[['Proportion with Expenditure in Internal R&D', 'Proportion with Expenditure in External R&D', 'Proportion with Product Innovation','Proportion with Process Innovation', 'Proportion Recieving Subsidy']], columns=range(2003,2017))\n",
    "\n",
    "for idx, year in enumerate(range(2003,2017)):\n",
    "    shell = pitec_inn[pitec_inn['year']==year]\n",
    "    shell = shell[shell['INCINE']=='LI']\n",
    "    innv.iloc[0,idx] = len(shell[shell['IDIN']=='1'])/len(shell)\n",
    "    innv.iloc[1,idx] = len(shell[shell['IDEX']=='1'])/len(shell)\n",
    "    innv.iloc[2,idx] = len(shell[shell['INNPROD']=='1'])/len(shell)\n",
    "    innv.iloc[3,idx] = len(shell[shell['INNPROC']=='1'])/len(shell)\n",
    "    innv.iloc[4,idx] = len(shell[shell['FONPUBLI'] > 0])/len(shell)\n",
    "    if innv.iloc[4,idx] == 0:\n",
    "        innv.iloc[4,idx] = np.nan\n",
    "innv_avg = innv.mean(axis=1)\n",
    "innv_avg"
   ]
  },
  {
   "cell_type": "markdown",
   "metadata": {},
   "source": [
    "# Average Firm Size that Recieves Subidy"
   ]
  },
  {
   "cell_type": "code",
   "execution_count": 6,
   "metadata": {},
   "outputs": [
    {
     "data": {
      "text/plain": [
       "<=5        0.065544\n",
       "6-20       0.197088\n",
       "21-50      0.204584\n",
       "51-100     0.134060\n",
       "101-500    0.279712\n",
       "500<       0.117434\n",
       "dtype: float64"
      ]
     },
     "execution_count": 6,
     "metadata": {},
     "output_type": "execute_result"
    }
   ],
   "source": [
    "firm_size_subsidy = pd.DataFrame(index=[['<=5', '6-20','21-50','51-100', '101-500','500<']], columns=range(2003,2017))\n",
    "\n",
    "for idx, year in enumerate(range(2003,2017)):\n",
    "    shell = pitec_inn[pitec_small['year']==year]\n",
    "    shell = shell[shell['INCINE']=='LI']\n",
    "    \n",
    "    firm_size_subsidy.iloc[0,idx]=len(shell[shell['TAMANO'] <= 5])/len(shell)\n",
    "    firm_size_subsidy.iloc[1,idx]= len( shell[(shell['TAMANO'] > 5) & (shell['TAMANO'] <=20)] )/len(shell)\n",
    "    firm_size_subsidy.iloc[2,idx]=len( shell[(shell['TAMANO'] > 20) & (shell['TAMANO'] <=50)] )/len(shell)\n",
    "    firm_size_subsidy.iloc[3,idx]=len( shell[(shell['TAMANO'] > 50) & (shell['TAMANO'] <=100)] )/len(shell)\n",
    "    firm_size_subsidy.iloc[4,idx]=len( shell[(shell['TAMANO'] > 101) & (shell['TAMANO'] <=500)] )/len(shell)\n",
    "    firm_size_subsidy.iloc[5,idx]=len( shell[shell['TAMANO'] > 500])/len(shell)\n",
    "firm_size_subsidy_avg = firm_size_subsidy.mean(axis=1)\n",
    "firm_size_subsidy_avg"
   ]
  },
  {
   "cell_type": "markdown",
   "metadata": {},
   "source": [
    "# Probability of Innovation Conditional on Having invested in R&D: Pr(j<sub>t+1</sub>, d<sub>t+1</sub> | x<sup>rd</sup><sub>t</sub> = 1)\n",
    "\n",
    "* Let j<sub>t+1</sub> represent a binary variable indicating whether a firm has had a **product innovation**. \n",
    "* Let d<sub>t+1</sub> represent a binary variable indicating whether a firm has had a **process innovation**. \n",
    "* Let x<sup>rd</sup><sub>t</sub>  represent a binary variable whether a firm has invested internally or externally in R&D the previous period."
   ]
  },
  {
   "cell_type": "code",
   "execution_count": 7,
   "metadata": {},
   "outputs": [
    {
     "data": {
      "text/plain": [
       "prod=0 and proc=0    0.444467\n",
       "prod=1 and proc=0    0.142289\n",
       "prod=0 and proc=1    0.164715\n",
       "prod=1 and proc=1    0.248528\n",
       "dtype: float64"
      ]
     },
     "execution_count": 7,
     "metadata": {},
     "output_type": "execute_result"
    }
   ],
   "source": [
    "prob_inn_1 = pd.DataFrame(index=['prod=0 and proc=0', 'prod=1 and proc=0', 'prod=0 and proc=1', 'prod=1 and proc=1'], columns=range(2004,2017))\n",
    "\n",
    "pitec_inn_pre = pitec_inn[['IDENT', 'year', 'INCINE', 'IDIN', 'IDEX']]\n",
    "pitec_inn_post =  pitec_inn[['IDENT', 'year', 'INCINE', 'INNPROD', 'INNPROC']]\n",
    "\n",
    "for idx, year in enumerate(range(2003,2016)):\n",
    "\n",
    "    pre = pitec_inn_pre[pitec_inn_pre['year']==year]\n",
    "    pre = pre[pre['INCINE']=='LI']\n",
    "    invested = pre[(pre['IDIN']!='1') | (pre['IDEX']!='1') ]\n",
    "\n",
    "\n",
    "    result = pitec_inn_post[pitec_inn_post['year']==year+1]\n",
    "    result = result[result['INCINE']=='LI']\n",
    "    result\n",
    "\n",
    "    invest_result_merge = pd.merge(invested, result, on='IDENT', how='inner')\n",
    "    prob_inn_1.iloc[0,idx] =  len(invest_result_merge[(invest_result_merge['INNPROD']=='0') & (invest_result_merge['INNPROC']=='0')])/len(invest_result_merge)\n",
    "    prob_inn_1.iloc[1,idx] =  len(invest_result_merge[(invest_result_merge['INNPROD']=='1') & (invest_result_merge['INNPROC']=='0')])/len(invest_result_merge)\n",
    "    prob_inn_1.iloc[2,idx] =  len(invest_result_merge[(invest_result_merge['INNPROD']=='0') & (invest_result_merge['INNPROC']=='1')])/len(invest_result_merge)\n",
    "    prob_inn_1.iloc[3,idx] = len(invest_result_merge[(invest_result_merge['INNPROD']=='1') & (invest_result_merge['INNPROC']=='1')])/len(invest_result_merge)\n",
    "\n",
    "prob_inn_1_avg = prob_inn_1.mean(axis=1)\n",
    "prob_inn_1_avg"
   ]
  },
  {
   "cell_type": "markdown",
   "metadata": {},
   "source": [
    "# Probability of Innovation Conditional on Not Having invested in R&D: Pr(j<sub>t+1</sub>, d<sub>t+1</sub> | x<sup>rd</sup><sub>t</sub> = 0)\n",
    "\n",
    "* Let j<sub>t+1</sub> represent a binary variable indicating whether a firm has had a **product innovation**. \n",
    "* Let d<sub>t+1</sub> represent a binary variable indicating whether a firm has had a **process innovation**. \n",
    "* Let x<sup>rd</sup><sub>t</sub>  represent a binary variable whether a firm has invested internally or externally in R&D the previous period."
   ]
  },
  {
   "cell_type": "code",
   "execution_count": 8,
   "metadata": {},
   "outputs": [
    {
     "data": {
      "text/plain": [
       "prod=0 and proc=0    0.656653\n",
       "prod=1 and proc=0    0.072892\n",
       "prod=0 and proc=1    0.162902\n",
       "prod=1 and proc=1    0.107554\n",
       "dtype: float64"
      ]
     },
     "execution_count": 8,
     "metadata": {},
     "output_type": "execute_result"
    }
   ],
   "source": [
    "prob_inn_0 = pd.DataFrame(index=['prod=0 and proc=0', 'prod=1 and proc=0', 'prod=0 and proc=1', 'prod=1 and proc=1'], columns=range(2004,2017))\n",
    "\n",
    "pitec_inn_pre = pitec_inn[['IDENT', 'year', 'INCINE', 'IDIN', 'IDEX']]\n",
    "pitec_inn_post =  pitec_inn[['IDENT', 'year', 'INCINE', 'INNPROD', 'INNPROC']]\n",
    "\n",
    "for idx, year in enumerate(range(2003,2016)):\n",
    "\n",
    "    pre = pitec_inn_pre[pitec_inn_pre['year']==year]\n",
    "    pre = pre[pre['INCINE']=='LI']\n",
    "    invested = pre[(pre['IDIN']=='0') & (pre['IDEX']=='0') ]\n",
    "\n",
    "\n",
    "    result = pitec_inn_post[pitec_inn_post['year']==year+1]\n",
    "    result = result[result['INCINE']=='LI']\n",
    "    result\n",
    "\n",
    "    invest_result_merge = pd.merge(invested, result, on='IDENT', how='inner')\n",
    "    prob_inn_0.iloc[0,idx] =  len(invest_result_merge[(invest_result_merge['INNPROD']=='0') & (invest_result_merge['INNPROC']=='0')])/len(invest_result_merge)\n",
    "    prob_inn_0.iloc[1,idx] =  len(invest_result_merge[(invest_result_merge['INNPROD']=='1') & (invest_result_merge['INNPROC']=='0')])/len(invest_result_merge)\n",
    "    prob_inn_0.iloc[2,idx] =  len(invest_result_merge[(invest_result_merge['INNPROD']=='0') & (invest_result_merge['INNPROC']=='1')])/len(invest_result_merge)\n",
    "    prob_inn_0.iloc[3,idx] = len(invest_result_merge[(invest_result_merge['INNPROD']=='1') & (invest_result_merge['INNPROC']=='1')])/len(invest_result_merge)\n",
    "\n",
    "prob_inn_0_avg = prob_inn_0.mean(axis=1)\n",
    "prob_inn_0_avg"
   ]
  },
  {
   "cell_type": "markdown",
   "metadata": {},
   "source": [
    "# Any obserbvations where firm conducts external R&D and recieves a subsidy? -- NO"
   ]
  },
  {
   "cell_type": "code",
   "execution_count": 9,
   "metadata": {},
   "outputs": [
    {
     "data": {
      "text/html": [
       "<div>\n",
       "<style scoped>\n",
       "    .dataframe tbody tr th:only-of-type {\n",
       "        vertical-align: middle;\n",
       "    }\n",
       "\n",
       "    .dataframe tbody tr th {\n",
       "        vertical-align: top;\n",
       "    }\n",
       "\n",
       "    .dataframe thead th {\n",
       "        text-align: right;\n",
       "    }\n",
       "</style>\n",
       "<table border=\"1\" class=\"dataframe\">\n",
       "  <thead>\n",
       "    <tr style=\"text-align: right;\">\n",
       "      <th></th>\n",
       "      <th>IDENT</th>\n",
       "      <th>year</th>\n",
       "      <th>INCINE</th>\n",
       "      <th>IDIN</th>\n",
       "      <th>IDEX</th>\n",
       "      <th>INNPROD</th>\n",
       "      <th>INNPROC</th>\n",
       "      <th>FONPUBLI</th>\n",
       "      <th>TAMANO</th>\n",
       "    </tr>\n",
       "  </thead>\n",
       "  <tbody>\n",
       "  </tbody>\n",
       "</table>\n",
       "</div>"
      ],
      "text/plain": [
       "Empty DataFrame\n",
       "Columns: [IDENT, year, INCINE, IDIN, IDEX, INNPROD, INNPROC, FONPUBLI, TAMANO]\n",
       "Index: []"
      ]
     },
     "execution_count": 9,
     "metadata": {},
     "output_type": "execute_result"
    }
   ],
   "source": [
    "pitec_inn[(pitec_inn['IDEX']=='1') & (pitec_inn['IDIN']=='0') & (pitec_inn['FONPUBLI']>0)]"
   ]
  },
  {
   "cell_type": "code",
   "execution_count": null,
   "metadata": {},
   "outputs": [],
   "source": []
  }
 ],
 "metadata": {
  "kernelspec": {
   "display_name": "Python 3",
   "language": "python",
   "name": "python3"
  },
  "language_info": {
   "codemirror_mode": {
    "name": "ipython",
    "version": 3
   },
   "file_extension": ".py",
   "mimetype": "text/x-python",
   "name": "python",
   "nbconvert_exporter": "python",
   "pygments_lexer": "ipython3",
   "version": "3.8.5"
  }
 },
 "nbformat": 4,
 "nbformat_minor": 4
}
